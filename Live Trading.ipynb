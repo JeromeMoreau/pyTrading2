{
 "cells": [
  {
   "cell_type": "code",
   "execution_count": null,
   "metadata": {
    "collapsed": true
   },
   "outputs": [],
   "source": [
    "from broker.execution_handler import OandaExecution\n",
    "from strategies.donchian_breakout import DonchianBreakout\n",
    "from broker.oanda_data_handler import OandaDataHandler\n",
    "from portfolio import Portfolio\n",
    "from settings import DOMAIN, ACCESS_TOKEN, OANDA_ACCOUNT_ID\n",
    "from broker.account import OandaAccount\n",
    "from live_trading import TradingEngine\n",
    "import queue"
   ]
  },
  {
   "cell_type": "code",
   "execution_count": null,
   "metadata": {
    "collapsed": false
   },
   "outputs": [],
   "source": [
    "heartbeat = 1\n",
    "events = queue.Queue()\n",
    "symbol_list = ['EUR_USD','AUD_USD']\n",
    "risk = 0.02\n",
    "\n",
    "account = OandaAccount(DOMAIN, ACCESS_TOKEN, OANDA_ACCOUNT_ID)\n",
    "\n",
    "prices = OandaDataHandler(account,events,[\"EUR_USD\"],'M1')\n",
    "execution = OandaExecution(events_queue=events,account=account)\n",
    "\n",
    "strategy_1 = DonchianBreakout(prices,events, entry_lookback=20, exit_lookback=20, atr_stop=3.,TP_atr=5.,name='DC_20x20')\n",
    "strategy_2 = DonchianBreakout(prices,events, entry_lookback=50, exit_lookback=30, atr_stop=3.,TP_atr=5.,name='DC_50x30')\n",
    "strategy_3 = DonchianBreakout(prices,events, entry_lookback=100, exit_lookback=50, atr_stop=3.,TP_atr=5.,name='DC_100x50')\n",
    "strategy_4 = DonchianBreakout(prices,events, entry_lookback=200, exit_lookback=100, atr_stop=3.,TP_atr=5.,name='DC_200x100')\n",
    "strategies = [strategy_1,strategy_2,strategy_3,strategy_4]\n",
    "\n",
    "portfolio = Portfolio(events_queue=events, prices=prices,account=account, risk_per_trade = risk,strategies=strategies,open_trades=[])\n",
    "\n",
    "engine = TradingEngine(heartbeat,events,account,prices,execution,portfolio,strategies)"
   ]
  },
  {
   "cell_type": "code",
   "execution_count": null,
   "metadata": {
    "collapsed": false
   },
   "outputs": [],
   "source": [
    "engine.start_live_trading()"
   ]
  },
  {
   "cell_type": "code",
   "execution_count": null,
   "metadata": {
    "collapsed": false
   },
   "outputs": [],
   "source": [
    "prices.symbols_obj"
   ]
  }
 ],
 "metadata": {
  "kernelspec": {
   "display_name": "Python 3",
   "language": "python",
   "name": "python3"
  },
  "language_info": {
   "codemirror_mode": {
    "name": "ipython",
    "version": 3
   },
   "file_extension": ".py",
   "mimetype": "text/x-python",
   "name": "python",
   "nbconvert_exporter": "python",
   "pygments_lexer": "ipython3",
   "version": "3.4.5"
  },
  "widgets": {
   "state": {},
   "version": "1.1.2"
  }
 },
 "nbformat": 4,
 "nbformat_minor": 0
}
