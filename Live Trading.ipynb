{
 "cells": [
  {
   "cell_type": "code",
   "execution_count": 1,
   "metadata": {
    "collapsed": true
   },
   "outputs": [],
   "source": [
    "from broker.execution_handler import OandaExecution\n",
    "from strategies.donchian_breakout import DonchianBreakout\n",
    "from broker.oanda_data_handler import OandaDataHandler\n",
    "from portfolio import Portfolio\n",
    "from settings import DOMAIN, ACCESS_TOKEN, OANDA_ACCOUNT_ID\n",
    "from broker.account import OandaAccount\n",
    "from live_trading import TradingEngine\n",
    "from server.server import Server\n",
    "import queue"
   ]
  },
  {
   "cell_type": "code",
   "execution_count": 2,
   "metadata": {
    "collapsed": false
   },
   "outputs": [
    {
     "name": "stdout",
     "output_type": "stream",
     "text": [
      "Strategy DC_20x20, lookback: 20x20, atr_stop 3.0\n",
      "Strategy DC_50x30, lookback: 50x30, atr_stop 3.0\n",
      "Strategy DC_100x50, lookback: 100x50, atr_stop 3.0\n",
      "Strategy DC_200x100, lookback: 200x100, atr_stop 3.0\n",
      "Socket created on port 5556\n"
     ]
    }
   ],
   "source": [
    "heartbeat = 1\n",
    "events = queue.Queue()\n",
    "symbol_list = ['EUR_USD','AUD_USD']\n",
    "risk = 0.02\n",
    "\n",
    "account = OandaAccount(DOMAIN, ACCESS_TOKEN, OANDA_ACCOUNT_ID)\n",
    "\n",
    "prices = OandaDataHandler(account,events,[\"EUR_USD\"],'M1')\n",
    "execution = OandaExecution(events_queue=events,account=account)\n",
    "\n",
    "strategy_1 = DonchianBreakout(prices,events, entry_lookback=20, exit_lookback=20, atr_stop=3.,TP_atr=5.,name='DC_20x20')\n",
    "strategy_2 = DonchianBreakout(prices,events, entry_lookback=50, exit_lookback=30, atr_stop=3.,TP_atr=5.,name='DC_50x30')\n",
    "strategy_3 = DonchianBreakout(prices,events, entry_lookback=100, exit_lookback=50, atr_stop=3.,TP_atr=5.,name='DC_100x50')\n",
    "strategy_4 = DonchianBreakout(prices,events, entry_lookback=200, exit_lookback=100, atr_stop=3.,TP_atr=5.,name='DC_200x100')\n",
    "strategies = [strategy_1,strategy_2,strategy_3,strategy_4]\n",
    "\n",
    "portfolio = Portfolio(events_queue=events, prices=prices,account=account, risk_per_trade = risk,strategies=strategies,open_trades=[])\n",
    "server = Server(account,portfolio)\n",
    "\n",
    "engine = TradingEngine(heartbeat,events,account,prices,execution,portfolio,strategies,server)"
   ]
  },
  {
   "cell_type": "code",
   "execution_count": 3,
   "metadata": {
    "collapsed": false
   },
   "outputs": [
    {
     "name": "stdout",
     "output_type": "stream",
     "text": [
      "merged with last candle\n",
      "              datetime    open     high       low    close  volume complete\n",
      "99 2016-07-19 15:30:00  1.1007  1.10108  1.100625  1.10093      37     True\n"
     ]
    }
   ],
   "source": [
    "engine.start_live_trading()"
   ]
  },
  {
   "cell_type": "code",
   "execution_count": 4,
   "metadata": {
    "collapsed": false
   },
   "outputs": [
    {
     "name": "stdout",
     "output_type": "stream",
     "text": [
      "EUR_USD -0.53798 DC_20x20 727\n",
      "EUR_USD -0.00781000000005 DC_20x20 781\n",
      "EUR_USD -0.31008 DC_50x30 969\n",
      "received event\n",
      "Generating CloseEvent\n",
      "               datetime     open     high      low    close  volume complete\n",
      "129 2016-07-19 09:32:00  1.10696  1.10696  1.10684  1.10688       8     True\n"
     ]
    }
   ],
   "source": [
    "for trade in portfolio.open_trades:\n",
    "    print(trade.instrument,trade.pnl,trade.strategy,trade.units)"
   ]
  },
  {
   "cell_type": "code",
   "execution_count": 8,
   "metadata": {
    "collapsed": false
   },
   "outputs": [
    {
     "name": "stdout",
     "output_type": "stream",
     "text": [
      "{'EUR_USD': 'OUT'} DC_20x20\n",
      "{'EUR_USD': 'LONG'} DC_50x30\n",
      "{'EUR_USD': 'OUT'} DC_100x50\n",
      "{'EUR_USD': 'OUT'} DC_200x100\n",
      "               datetime    open     high      low    close  volume complete\n",
      "130 2016-07-19 09:33:00  1.1069  1.10692  1.10682  1.10683      11     True\n",
      "received event\n",
      "Data: Received MARKET_ORDER_CREATE Event,not yet supported\n",
      "received event\n",
      "Data: Received MARKET_ORDER_CREATE Event,not yet supported\n",
      "{'instrument': 'EUR_USD', 'tradeReduced': {}, 'price': 1.10673, 'tradesClosed': [{'units': 781, 'id': 10386258070, 'side': 'buy'}], 'time': '2016-07-19T09:34:21.000000Z', 'tradeOpened': {'units': 219, 'side': 'sell', 'takeProfit': 0, 'trailingStop': 0, 'stopLoss': 1.1073, 'id': 10386271165}}\n"
     ]
    }
   ],
   "source": [
    "for strat in strategies:\n",
    "    print(strat.invested,strat.identifier)"
   ]
  }
 ],
 "metadata": {
  "kernelspec": {
   "display_name": "Python 3",
   "language": "python",
   "name": "python3"
  },
  "language_info": {
   "codemirror_mode": {
    "name": "ipython",
    "version": 3
   },
   "file_extension": ".py",
   "mimetype": "text/x-python",
   "name": "python",
   "nbconvert_exporter": "python",
   "pygments_lexer": "ipython3",
   "version": "3.4.5"
  },
  "widgets": {
   "state": {},
   "version": "1.1.2"
  }
 },
 "nbformat": 4,
 "nbformat_minor": 0
}
